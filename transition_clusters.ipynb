{
 "cells": [
  {
   "cell_type": "code",
   "execution_count": 1,
   "metadata": {},
   "outputs": [],
   "source": [
    "import pandas as pd\n",
    "import numpy as np"
   ]
  },
  {
   "cell_type": "code",
   "execution_count": 2,
   "metadata": {},
   "outputs": [],
   "source": [
    "%matplotlib inline\n",
    "import matplotlib.pyplot as plt"
   ]
  },
  {
   "cell_type": "code",
   "execution_count": 13,
   "metadata": {},
   "outputs": [],
   "source": [
    "C1 = pd.DataFrame({\n",
    "    'Xi': np.random.rand(30) * 500,\n",
    "    'Yi': np.random.rand(30) * 500,\n",
    "    'Xf': np.random.randn(30) * 20 + 100,\n",
    "    'Yf': np.random.randn(30) * 20 + 175,\n",
    "    'color': ['red']*30,\n",
    "})\n",
    "\n",
    "C2 = pd.DataFrame({\n",
    "    'Xi': np.random.rand(30) * 500,\n",
    "    'Yi': np.random.rand(30) * 500,\n",
    "    'Xf': np.random.randn(30) * 20 + 225,\n",
    "    'Yf': np.random.randn(30) * 20 + 325,\n",
    "    'color': ['green']*30,\n",
    "})\n",
    "\n",
    "C3 = pd.DataFrame({\n",
    "    'Xi': np.random.rand(30) * 500,\n",
    "    'Yi': np.random.rand(30) * 500,\n",
    "    'Xf': np.random.randn(30) * 20 + 300,\n",
    "    'Yf': np.random.randn(30) * 20 + 125,\n",
    "    'color': ['blue']*30,\n",
    "})\n",
    "\n",
    "C = pd.concat([C1, C2, C3])"
   ]
  },
  {
   "cell_type": "code",
   "execution_count": 14,
   "metadata": {},
   "outputs": [
    {
     "data": {
      "text/plain": [
       "(0, 400)"
      ]
     },
     "execution_count": 14,
     "metadata": {},
     "output_type": "execute_result"
    },
    {
     "data": {
      "image/png": "[encoded data removed]",
      "text/plain": [
       "<Figure size 432x288 with 1 Axes>"
      ]
     },
     "metadata": {},
     "output_type": "display_data"
    }
   ],
   "source": [
    "plt.plot(C.Xi, C.Yi, 'o')\n",
    "plt.plot(C.Xf, C.Yf, 'o', c='green')\n",
    "plt.xlim(0,400)\n",
    "plt.ylim(0,400)"
   ]
  },
  {
   "cell_type": "code",
   "execution_count": 15,
   "metadata": {},
   "outputs": [],
   "source": [
    "C.to_csv('transition_clusters.csv', index=False)"
   ]
  },
  {
   "cell_type": "code",
   "execution_count": null,
   "metadata": {},
   "outputs": [],
   "source": []
  }
 ],
 "metadata": {
  "kernelspec": {
   "display_name": "Python 3",
   "language": "python",
   "name": "python3"
  },
  "language_info": {
   "codemirror_mode": {
    "name": "ipython",
    "version": 3
   },
   "file_extension": ".py",
   "mimetype": "text/x-python",
   "name": "python",
   "nbconvert_exporter": "python",
   "pygments_lexer": "ipython3",
   "version": "3.6.5"
  }
 },
 "nbformat": 4,
 "nbformat_minor": 2
}
